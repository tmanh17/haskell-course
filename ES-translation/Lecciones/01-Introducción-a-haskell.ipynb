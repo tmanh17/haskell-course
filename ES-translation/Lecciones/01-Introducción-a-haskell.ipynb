{
 "cells": [
  {
   "cell_type": "markdown",
   "metadata": {
    "slideshow": {
     "slide_type": "slide"
    }
   },
   "source": [
    "# Introducción a\n",
    "\n",
    "\n",
    "![](https://www.haskell.org/img/haskell-logo.svg)"
   ]
  },
  {
   "cell_type": "markdown",
   "metadata": {
    "slideshow": {
     "slide_type": "slide"
    }
   },
   "source": [
    "## Índice\n",
    "* ¿Qué es Haskell?\n",
    "* Lenguajes de programación funcionales\n",
    "\t* Composición de funciones\n",
    "* Efectos explícitos (puramente funcionales)\n",
    "* Sintaxis básica\n",
    "\t* Identación y Comentarios\n",
    "\t* Definiendo y usando funciones \n",
    "* Sistema de Tipos de Haskell\n",
    "* Laziness\n",
    "* Herramientas: GHC (GHCi), Cabal, Stack"
   ]
  },
  {
   "cell_type": "markdown",
   "metadata": {
    "slideshow": {
     "slide_type": "skip"
    }
   },
   "source": [
    "## Cómo utilizar JupyterLab\n",
    "* Cada lección es un notebook de Jupyter.\n",
    "* Cada notebook de Jupyter es una serie de celdas.\n",
    "* Para ejecutar una celda, presiona ⇧⏎ (Shift + Enter).\n",
    "* Puedes experimentar con el código dentro de las celdas.\n",
    "* Una vez cierres la pestaña, se perderán todos los cambios."
   ]
  },
  {
   "cell_type": "markdown",
   "metadata": {
    "slideshow": {
     "slide_type": "slide"
    }
   },
   "source": [
    "## ¿Qué es Haskell?"
   ]
  },
  {
   "cell_type": "markdown",
   "metadata": {
    "slideshow": {
     "slide_type": "notes"
    }
   },
   "source": [
    "Vamos a repasar cada propiedad de Haskell por separado y responderemos esta pregunta al final de la lección."
   ]
  },
  {
   "cell_type": "markdown",
   "metadata": {
    "slideshow": {
     "slide_type": "slide"
    }
   },
   "source": [
    "##  Lenguajes de programación funcional"
   ]
  },
  {
   "cell_type": "markdown",
   "metadata": {
    "slideshow": {
     "slide_type": "notes"
    }
   },
   "source": [
    "Haskell es un lenguaje de programación funcional."
   ]
  },
  {
   "cell_type": "markdown",
   "metadata": {
    "slideshow": {
     "slide_type": "fragment"
    }
   },
   "source": [
    "En lenguajes de programación imperativos, las definiciones de funciones son una secuencia declaraciones imperativas."
   ]
  },
  {
   "cell_type": "markdown",
   "metadata": {
    "slideshow": {
     "slide_type": "skip"
    }
   },
   "source": [
    "En un lenguaje de programación funcional, las definiciones de funciones son **árboles de expresiones que relacionan valores con otros valores**. \n",
    "\n",
    "*Aclaración: un árbol de expresiones es una forma de representar expresiones algebráicas, no te preocupes si el concepto no queda claro del todo.\n",
    "Podés pensar una función simplemente como una caja mágica donde entran valores por un lado y por el otro salen valores distintos.*\n",
    "\n",
    "![Ejemplo Funcion](https://adit.io/imgs/functors/function_with_value.png \"ejemplo funcion\")"
   ]
  },
  {
   "cell_type": "markdown",
   "metadata": {
    "slideshow": {
     "slide_type": "fragment"
    }
   },
   "source": [
    "\n",
    "**Los programas se construyen *aplicando* y *componiendo* funciones**."
   ]
  },
  {
   "cell_type": "markdown",
   "metadata": {
    "slideshow": {
     "slide_type": "slide"
    }
   },
   "source": [
    "### Composición de funciones"
   ]
  },
  {
   "cell_type": "markdown",
   "metadata": {
    "slideshow": {
     "slide_type": "fragment"
    }
   },
   "source": [
    "**La composición es el acto de *dirigir* el *resultado* de una función hacia la *entrada* de otra, creando una función completamente nueva**"
   ]
  },
  {
   "cell_type": "markdown",
   "metadata": {
    "slideshow": {
     "slide_type": "fragment"
    }
   },
   "source": [
    "Tal como la composición de funciones en matemática, el **resultado de cada función se pasa como argumento de la siguiente**, y el resultado de la última es el resultado total."
   ]
  },
  {
   "cell_type": "markdown",
   "metadata": {
    "slideshow": {
     "slide_type": "notes"
    }
   },
   "source": [
    "Por ejemplo, supongamos que tenemos dos funciones $f$ y $g$:\n",
    "\n",
    "$$y = f(x)$$\n",
    "$$z = g(y)$$\n",
    "\n",
    "Componer ambas funciones implica primero calcular $f(x)$ para obtener $y$, y luego usar $y$ como argumento para calcular $g(y)$ y obtener $z$.\n",
    "\n",
    "Creando así una función que va de $x$ hasta $z$:\n",
    "\n",
    "$$z = g(f(x))$$\n",
    "\n",
    "De esa manera podemos crear **funciones arbitrariamente complejas componiendo funciones sencillas**"
   ]
  },
  {
   "cell_type": "markdown",
   "metadata": {
    "slideshow": {
     "slide_type": "slide"
    }
   },
   "source": [
    "Por ejemplo, si tenemos:\n",
    "\n",
    "* Una función que toma una hoja de cálculo y devielve la lista de jugadores que contiene.\n",
    "* Una función que toma la lista de jugadores y devuelve la misma lista ordenada por puntajes.\n",
    "* Y una finción que toma la lista de jugadores y devuelve los primeros 3.\n",
    "\n",
    "Podríamos crear **una única función que tome la hoja de cálculo y devuelva los 3 mejores jugadores** simplemente componiendo esas tres funciones.\n",
    "\n",
    "Un ejemplo más visual:\n",
    "\n",
    "![Ejemplo Composición](https://i.imgur.com/S1jPpWN.png \"ejemplo composicion\")\n",
    "\n",
    "Una función que suma 2 a un número, y una función que suma 3 a un número, compuestas forman una única función suma 5 al valor de entrada."
   ]
  },
  {
   "cell_type": "markdown",
   "metadata": {
    "slideshow": {
     "slide_type": "notes"
    }
   },
   "source": [
    "\n",
    "\n",
    "Además, Haskell tiene efectos explícitos (también llamados puros 👼)!"
   ]
  },
  {
   "cell_type": "markdown",
   "metadata": {
    "slideshow": {
     "slide_type": "slide"
    }
   },
   "source": [
    "## Efectos explícitos (puramente funcionales)"
   ]
  },
  {
   "cell_type": "markdown",
   "metadata": {
    "slideshow": {
     "slide_type": "fragment"
    }
   },
   "source": [
    "Los lenguajes de programación funcionales puros tratan **todos los cálculos como evaluación de funciones matemáticas**."
   ]
  },
  {
   "cell_type": "markdown",
   "metadata": {
    "slideshow": {
     "slide_type": "fragment"
    }
   },
   "source": [
    "En matemática, la expresión $y$ = $x$ + 1 significa que el valor de $y$ es una función que depende de $x$."
   ]
  },
  {
   "cell_type": "markdown",
   "metadata": {
    "slideshow": {
     "slide_type": "notes"
    }
   },
   "source": [
    "Para una $x$ específica, el valor de $y$ siempre va a ser el mismo.\n",
    "\n",
    "Sin importar si estás en Italia o en España, si es el año 1994 o el 2022, o si tenés otras ecuaciones en tu cuaderno. $y$ solo se va a fijar en el valor de $x$ y nada más."
   ]
  },
  {
   "cell_type": "markdown",
   "metadata": {
    "slideshow": {
     "slide_type": "slide"
    }
   },
   "source": [
    "En los lenguajes de programación funcionales, las funciones puras dependen **solo de sus argumentos** y **no interactuan con ningún estado global ni local** (esto se llama \"no tener \"*efectos secundarios*.\")"
   ]
  },
  {
   "cell_type": "markdown",
   "metadata": {
    "slideshow": {
     "slide_type": "fragment"
    }
   },
   "source": [
    "Esto significa que, **para una entrada específica, la función devolverá siempre el mismo valor. Siempre.**"
   ]
  },
  {
   "cell_type": "markdown",
   "metadata": {
    "slideshow": {
     "slide_type": "notes"
    }
   },
   "source": [
    "Esto puede parecer una mala idea, pero en realidad tiene algunas consecuencias extremadamente convenientes:"
   ]
  },
  {
   "cell_type": "markdown",
   "metadata": {
    "slideshow": {
     "slide_type": "slide"
    }
   },
   "source": [
    "* Te permite deducir facilmente y probar que una función es correcta.\n",
    "* En Haskell, uno puede siempre \"reemplazar iguales por iguales\", tal como aprendiste en tu clase de álgebra.\n",
    "* Permite que tu código sea menos propenso a errores.\n",
    "* Es más fácil la programación paralela/concurrente. (Si no hay dependencia entre los datos de dos expresiones puras, entonces llevarse a cabo en paralelo y no pueden interferir entre ellas.)\n",
    "* La lista continúa..."
   ]
  },
  {
   "cell_type": "markdown",
   "metadata": {
    "slideshow": {
     "slide_type": "slide"
    }
   },
   "source": [
    "**Haskell funciona como un lenguaje funcional puro, pero también admite efectos secundarios (comunicación de red, I/O (Flujos de entrada y salida, etc.) mencionándolos explicitamente en el sistema de tipos**. Veremos cómo hacerlo en futuras lecciones. (Esto se llama tener efectos explícitos)."
   ]
  },
  {
   "cell_type": "markdown",
   "metadata": {
    "slideshow": {
     "slide_type": "notes"
    }
   },
   "source": [
    "Antes de continuar con más propiedades, veamos cómo se ve Haskell realmente."
   ]
  },
  {
   "cell_type": "markdown",
   "metadata": {
    "slideshow": {
     "slide_type": "slide"
    }
   },
   "source": [
    "## Sintaxis básica"
   ]
  },
  {
   "cell_type": "markdown",
   "metadata": {
    "slideshow": {
     "slide_type": "slide"
    }
   },
   "source": [
    "### Comentando el código"
   ]
  },
  {
   "cell_type": "code",
   "execution_count": null,
   "metadata": {
    "slideshow": {
     "slide_type": "fragment"
    }
   },
   "outputs": [],
   "source": [
    "-- Usa doble guión medio para comentar dentro de una línea de código\n",
    "\n",
    "{-\n",
    "Usa llaves con un guión para abrir y cerrar\n",
    "    comentarios multi-línea.\n",
    "-}"
   ]
  },
  {
   "cell_type": "markdown",
   "metadata": {
    "slideshow": {
     "slide_type": "slide"
    }
   },
   "source": [
    "### Identación\n",
    "\n",
    "**Haskell es sensible a la identación**. Lo cual significa que los espacios, tabulaciones y saltos de línea **importan**.\n",
    "\n",
    "La clave es:"
   ]
  },
  {
   "cell_type": "markdown",
   "metadata": {
    "slideshow": {
     "slide_type": "fragment"
    }
   },
   "source": [
    "<p><blockquote> El código que forma parte de una misma expresión debe ser identitado más lejos que dicha expresión (incluso is la expresión no se encuentra sobre el borde izquierdo de la línea).</blockquote><p>\n",
    "   "
   ]
  },
  {
   "cell_type": "code",
   "execution_count": null,
   "metadata": {},
   "outputs": [],
   "source": [
    "--Ejemplo, esta función suma dos valores (en la próxima sección daremos más detalles de cómo su sintaxis)\n",
    "funcionLoca valor1 valor2 = valor1 + valor2\n",
    "-- Pero también es correcto escribirlo de esta forma:\n",
    "funcionLoca valor1 valor2 = valor1\n",
    "    +valor2\n",
    "{-^^ no importa cuántos espacios haya, mientras la segunda parte esté más a la derecha que la primera,\n",
    "seguirá formando parte de la misma expresión-}\n",
    "      "
   ]
  },
  {
   "cell_type": "code",
   "execution_count": null,
   "metadata": {},
   "outputs": [],
   "source": [
    "--Por más que la primera parte no esté sobre el borde de la línea, la segunda siempre debe estar más a la derecha.\n",
    "        funcionLoca valor1 valor2 = valor1\n",
    "                +valor2"
   ]
  },
  {
   "cell_type": "markdown",
   "metadata": {
    "slideshow": {
     "slide_type": "notes"
    }
   },
   "source": [
    "Veremos más ejemplos en las próximas lecciones."
   ]
  },
  {
   "cell_type": "markdown",
   "metadata": {
    "slideshow": {
     "slide_type": "slide"
    }
   },
   "source": [
    "### Definiendo funciones"
   ]
  },
  {
   "cell_type": "markdown",
   "metadata": {
    "slideshow": {
     "slide_type": "notes"
    }
   },
   "source": [
    "Que Haskell sea un lenguaje funcional significa que vas a tener que escribir muchas funciones. Empecemos por eso."
   ]
  },
  {
   "cell_type": "markdown",
   "metadata": {
    "slideshow": {
     "slide_type": "fragment"
    }
   },
   "source": [
    "Esta es una expresión que define una función que verifica si un número es mayor que 18:"
   ]
  },
  {
   "cell_type": "code",
   "execution_count": null,
   "metadata": {
    "slideshow": {
     "slide_type": "fragment"
    }
   },
   "outputs": [],
   "source": [
    "mayorQue18 x = x > 18"
   ]
  },
  {
   "cell_type": "markdown",
   "metadata": {
    "slideshow": {
     "slide_type": "notes"
    }
   },
   "source": [
    "* `mayorQue18` es el nombre de la función. Es conveniente elegir un nombre que identifique facilmente lo que hace la función.\n",
    "* `x` es un parámetro.\n",
    "* El operador `=` asigna la expresión `x > 18` al nombre `mayorQue18`.\n",
    "\n",
    "A la izquierda del signo `=` debemos escribir el nombre de la función y los parámetros. A la derecha, la expresión que será contenida por esta función.\n",
    "\n",
    "Algo así (puedo recibir todos los parámetros que quiera):"
   ]
  },
  {
   "cell_type": "code",
   "execution_count": null,
   "metadata": {},
   "outputs": [],
   "source": [
    "nombreDeLaFuncion parametro1 parametro2 parametroX = parametro1 + parametro2 +  parametroX"
   ]
  },
  {
   "cell_type": "markdown",
   "metadata": {
    "slideshow": {
     "slide_type": "slide"
    }
   },
   "source": [
    "### Usando funciones"
   ]
  },
  {
   "cell_type": "markdown",
   "metadata": {
    "slideshow": {
     "slide_type": "notes"
    }
   },
   "source": [
    "Para usar la función `mayorQue18`, solo tenemos que escribir su nombre, seguido de un espacio y un número:"
   ]
  },
  {
   "cell_type": "code",
   "execution_count": null,
   "metadata": {
    "slideshow": {
     "slide_type": "fragment"
    }
   },
   "outputs": [],
   "source": [
    "mayorQue18 30"
   ]
  },
  {
   "cell_type": "markdown",
   "metadata": {
    "slideshow": {
     "slide_type": "notes"
    }
   },
   "source": [
    "La función es ejecutada, Haskell reemplaza todos las `x` con `30`, y se convierte en `mayorQue18 30`. Luego, evalúa la expresión, devolviendo `True`."
   ]
  },
  {
   "cell_type": "markdown",
   "metadata": {
    "slideshow": {
     "slide_type": "slide"
    }
   },
   "source": [
    "### Más ejemplos"
   ]
  },
  {
   "cell_type": "code",
   "execution_count": null,
   "metadata": {
    "slideshow": {
     "slide_type": "slide"
    }
   },
   "outputs": [],
   "source": [
    "-- Una función que suma 6 números\n",
    "sumar6numeros u v w x y z = u + v + w + x + y + z\n",
    "sumar6numeros  1 2 3 4 5 6  -- 21"
   ]
  },
  {
   "cell_type": "code",
   "execution_count": null,
   "metadata": {
    "slideshow": {
     "slide_type": "slide"
    }
   },
   "outputs": [],
   "source": [
    "-- Función que calcula el volumen de un cilindro\n",
    "volumenDeUnCilindro r h = pi * r^2 * h  -- pi representa el numero π, ya viene dentro de Haskell\n",
    "volumenDeUnCilindro 3 10"
   ]
  },
  {
   "cell_type": "code",
   "execution_count": null,
   "metadata": {
    "slideshow": {
     "slide_type": "slide"
    }
   },
   "outputs": [],
   "source": [
    "-- Función que recibe la temperatura en Farenheit y la devuelve en Celsius\n",
    "deFaC x = (x - 32) * 5 / 9\n",
    "deFaC 212  -- 100\t"
   ]
  },
  {
   "cell_type": "markdown",
   "metadata": {
    "slideshow": {
     "slide_type": "slide"
    }
   },
   "source": [
    "### Puntos clave\n",
    "* Los parámetros van separados por espacios.\n",
    "* Todo lo que está después del `=` es el cuerpo de la función.\n",
    "* La primera letra del nombre de una función debe estar en minúscula.\n",
    "> Se utiliza la convención cammelCase para nombrar identificadores. Si el nombre de mi función abarca más de una palabra,\n",
    "la primera será escrita toda en minúscula y luego la primera letra de cada palabra estará en mayúscula,\n",
    "tal cual como \"cammelCase\". (Esto es una buena práctica, aunque solo es obligatorio la primera letra en minúscula).\n",
    "* Se utiliza paréntesis para dar prioridad a una operación, como en matemática."
   ]
  },
  {
   "cell_type": "markdown",
   "metadata": {
    "slideshow": {
     "slide_type": "slide"
    }
   },
   "source": [
    "## Sistema de tipos de Haskell"
   ]
  },
  {
   "cell_type": "markdown",
   "metadata": {},
   "source": [
    "Cubriremos el sistema de tipos de Haskell en profundidad en la leccion 2. A continuación aprenderas algunos conceptos básicos."
   ]
  },
  {
   "cell_type": "markdown",
   "metadata": {
    "slideshow": {
     "slide_type": "notes"
    }
   },
   "source": [
    "Los tipos son **atributos que restringen los valores que una pieza de código puede tener**. Por ejemplo, si indicas que un dato es number, ese dato puede tener cualquiera de estos valores:"
   ]
  },
  {
   "cell_type": "markdown",
   "metadata": {
    "slideshow": {
     "slide_type": "fragment"
    }
   },
   "source": [
    "      32\n",
    "\n",
    "      9999695939294\n",
    "\n",
    "      0.5"
   ]
  },
  {
   "cell_type": "markdown",
   "metadata": {
    "slideshow": {
     "slide_type": "skip"
    }
   },
   "source": [
    "Pero, si intentas añadir un caracter allí, como éste: `6A3` (en vez de `63`), el compilador/intérprete va a quejarse. \n",
    "\n",
    "Lo que tu compilador/intérprete hizo se llama **type checking**. Algunos lenguajes tienen un type checking más estricto, otros menos."
   ]
  },
  {
   "cell_type": "markdown",
   "metadata": {
    "slideshow": {
     "slide_type": "fragment"
    }
   },
   "source": [
    "      6A3"
   ]
  },
  {
   "cell_type": "markdown",
   "metadata": {
    "slideshow": {
     "slide_type": "slide"
    }
   },
   "source": [
    "### Type checking\n",
    "\n",
    "**Type checking es el proceso de verificar y forzar las restricciones de tipos**."
   ]
  },
  {
   "cell_type": "markdown",
   "metadata": {
    "slideshow": {
     "slide_type": "fragment"
    }
   },
   "source": [
    "**¿Qué significa?** Significa que cada tipo tiene sus limitaciones (Por ej. no puedes sumar letras), y este proceso verifica que esas limitaciones sean respetadas."
   ]
  },
  {
   "cell_type": "markdown",
   "metadata": {
    "slideshow": {
     "slide_type": "fragment"
    }
   },
   "source": [
    "**¿Por qué hacer esto?** Para prevenir errores evitables."
   ]
  },
  {
   "cell_type": "markdown",
   "metadata": {
    "slideshow": {
     "slide_type": "skip"
    }
   },
   "source": [
    "### Lenguajes de tipado dinámico"
   ]
  },
  {
   "cell_type": "markdown",
   "metadata": {
    "slideshow": {
     "slide_type": "notes"
    }
   },
   "source": [
    "Si más adelante en tu programa querés sumar números y uno de ellos tiene una letra, el programa no sabrá que hacer y el compilador te devolverá un error. Esos errores son prevenibles (bugs), y el compilador ayuda a evitarlos."
   ]
  },
  {
   "cell_type": "markdown",
   "metadata": {
    "slideshow": {
     "slide_type": "notes"
    }
   },
   "source": [
    "Generalmente, esto se realiza automáticamente. Pero no todos los lenguajes lo hacen de la misma manera. Hay dos principales distinciones respectoa CUANDO se chequean los tipos: lenguajes de **tipado dinámico** y lenguajes de **tipado estático**."
   ]
  },
  {
   "cell_type": "markdown",
   "metadata": {
    "slideshow": {
     "slide_type": "slide"
    }
   },
   "source": [
    "**Los lenguajes de tipado dinámico chequean los tipos en tiempo de ejecución**."
   ]
  },
  {
   "cell_type": "markdown",
   "metadata": {
    "slideshow": {
     "slide_type": "skip"
    }
   },
   "source": [
    "Esto es lo últomo que se realiza con un programa. Es el estado donde corre el programa para realizar pruebas o utilizarlo.\n",
    "\n",
    "Algunos ejemplos comunes de lenguajes de tipado dinámico son JavaScript, Python, Objective-C y PHP."
   ]
  },
  {
   "cell_type": "markdown",
   "metadata": {
    "slideshow": {
     "slide_type": "skip"
    }
   },
   "source": [
    "### Lenguajes de tipado estático"
   ]
  },
  {
   "cell_type": "markdown",
   "metadata": {
    "slideshow": {
     "slide_type": "fragment"
    }
   },
   "source": [
    "**Los lenguajes de tipado estático chequean los tipos al momento de compilación**."
   ]
  },
  {
   "cell_type": "markdown",
   "metadata": {
    "slideshow": {
     "slide_type": "skip"
    }
   },
   "source": [
    "Lo que significa que vas a saber si hay un error de tipos tan pronto como compiles tu programas. Lo que lleva a un código más seguro y optimizado.\n",
    "\n",
    "Entre los lenguajes más comunes de tipado estático se encuentran Java, C y C++."
   ]
  },
  {
   "cell_type": "markdown",
   "metadata": {
    "slideshow": {
     "slide_type": "slide"
    }
   },
   "source": [
    "### Sistema de tipos de Haskell"
   ]
  },
  {
   "cell_type": "markdown",
   "metadata": {
    "slideshow": {
     "slide_type": "fragment"
    }
   },
   "source": [
    "**Haskell es de tipado estático**. Además, en Haskell **toda expresión tiene un tipo**."
   ]
  },
  {
   "cell_type": "markdown",
   "metadata": {
    "slideshow": {
     "slide_type": "notes"
    }
   },
   "source": [
    "Pero no te preocupes, no es necesario definir manualmente los tipos de cada expresión, ya que el compilador es muy bueno en la **inferencia de tipos**."
   ]
  },
  {
   "cell_type": "markdown",
   "metadata": {
    "slideshow": {
     "slide_type": "fragment"
    }
   },
   "source": [
    "**La inferencia de tipos le permite a Haskell inferir tipos por su cuenta**."
   ]
  },
  {
   "cell_type": "markdown",
   "metadata": {
    "slideshow": {
     "slide_type": "notes"
    }
   },
   "source": [
    "Si escribes algo como `3 + 4`, Haskell sabrá que el resultado de esa expresión es un número, y va a tratarlo como tal sin necesidad de especificar el tipo. (Funciona con expresiones más complicadas también. Mira los ejemplos anteriores.)"
   ]
  },
  {
   "cell_type": "markdown",
   "metadata": {
    "slideshow": {
     "slide_type": "fragment"
    }
   },
   "source": [
    "Esto permite al compilador **comprender y razonar *bastante* sobre tu programa**, brindando así una ayuda bastante efectiva para cazar bugs."
   ]
  },
  {
   "cell_type": "markdown",
   "metadata": {
    "slideshow": {
     "slide_type": "skip"
    }
   },
   "source": [
    "A pesar de que no es necesario para el compilador, **es considerado una buena práctica escribir la firma de tipos de las funciones y expresiones más importantes**, para mejorar le legibilidad del código."
   ]
  },
  {
   "cell_type": "markdown",
   "metadata": {
    "slideshow": {
     "slide_type": "notes"
    }
   },
   "source": [
    "Si el código es muy ambiguo para el compilador para inferir el tipo, te pedirá que lo especifiques."
   ]
  },
  {
   "cell_type": "markdown",
   "metadata": {
    "slideshow": {
     "slide_type": "slide"
    }
   },
   "source": [
    "## Laziness"
   ]
  },
  {
   "cell_type": "markdown",
   "metadata": {
    "slideshow": {
     "slide_type": "fragment"
    }
   },
   "source": [
    "**Haskell es lazy (perezoso 😪). Esto significa que no evalúa expresiones hasta que se necesiten sus resultados**"
   ]
  },
  {
   "cell_type": "markdown",
   "metadata": {
    "slideshow": {
     "slide_type": "notes"
    }
   },
   "source": [
    "Ejemplos de lazyness en práctica"
   ]
  },
  {
   "cell_type": "markdown",
   "metadata": {
    "slideshow": {
     "slide_type": "slide"
    }
   },
   "source": [
    "* Podemos usar listas infinitas."
   ]
  },
  {
   "cell_type": "code",
   "execution_count": null,
   "metadata": {
    "slideshow": {
     "slide_type": "fragment"
    }
   },
   "outputs": [],
   "source": [
    "dame x = take x [1..] -- [1..] es una lista infinita de números naturales que empieza en 1.\n",
    "dame 7                -- la funcion *take x* toma los primeros x números de una lista "
   ]
  },
  {
   "cell_type": "markdown",
   "metadata": {
    "slideshow": {
     "slide_type": "slide"
    }
   },
   "source": [
    "\n",
    "* Haskell no evalúa expresiones si no son necesarias."
   ]
  },
  {
   "cell_type": "code",
   "execution_count": null,
   "metadata": {
    "slideshow": {
     "slide_type": "fragment"
    }
   },
   "outputs": [],
   "source": [
    "calculoLiviano = 7 \n",
    "calculoPesado = sum [1..10000000] -- sum es una finción que toma una lista y devuelve la suma de todos sus elementos. Esto va a crashear el kernel.\n",
    "if calculoLiviano > 5 || calculoPesado > 5 then \"Listo\" else \"Esto nunca va a mostrarse porque calculoPesado es siempre mayor que 5\"\n",
    "-- Intentá correr esta celda usando calculoLiviano haciendo que sea mayor y menor que 5.\n",
    "-- Cuando calculoLiviano > 5, calculoPesado no es evaluado porque no es necesario. When cheapComputation > 5, expensiveComputation isn't evaluated because it is not needed."
   ]
  },
  {
   "cell_type": "markdown",
   "metadata": {
    "slideshow": {
     "slide_type": "slide"
    }
   },
   "source": [
    "## ¿Entonces, qué es Haskell?"
   ]
  },
  {
   "cell_type": "markdown",
   "metadata": {
    "slideshow": {
     "slide_type": "fragment"
    }
   },
   "source": [
    "#### Haskell es un lenguaje de programación funcional, **lazy**, de tipado estático con **efectos explícitos** y funciones que se ven como ésta:\n",
    "\n",
    "```haskell\n",
    "volumenDeUnCilindro r h = pi * r^2 * h \n",
    "```"
   ]
  },
  {
   "cell_type": "markdown",
   "metadata": {
    "slideshow": {
     "slide_type": "fragment"
    }
   },
   "source": [
    "<div class=\"alert alert-block alert-info\">\n",
    "<b>Nota:</b> Haskell tiene otras propiedades importantes (como tipos de datos algebráicos, type classes, inferencia de tipos, polimorfismo, ...) que cubriremos en las próximas lecciones.\n",
    "</div>"
   ]
  },
  {
   "cell_type": "markdown",
   "metadata": {
    "slideshow": {
     "slide_type": "notes"
    }
   },
   "source": [
    "(*Lazy* y *efectos explícitos* son dos de las propiedades más únicas de Haskell. Es por eso que están en negrita.)"
   ]
  },
  {
   "cell_type": "markdown",
   "metadata": {
    "slideshow": {
     "slide_type": "slide"
    }
   },
   "source": [
    "## Herramientas"
   ]
  },
  {
   "cell_type": "markdown",
   "metadata": {
    "slideshow": {
     "slide_type": "slide"
    }
   },
   "source": [
    "### Acerca de Cabal y Stack"
   ]
  },
  {
   "cell_type": "markdown",
   "metadata": {
    "slideshow": {
     "slide_type": "fragment"
    }
   },
   "source": [
    "Mientras aprendes Haskell seguramente te econtrarás con los términos Stack y Cabal.\n",
    "\n",
    "**Estos son sistemas para manejar bibliotecas y programas**. Te facilitan trabajar con bibliotecas.\n",
    "\n",
    "En este curso utilizaremos Cabal, y explicaremos cómo usarlo más adelante."
   ]
  },
  {
   "cell_type": "markdown",
   "metadata": {
    "slideshow": {
     "slide_type": "slide"
    }
   },
   "source": [
    "### GHC y GHCi"
   ]
  },
  {
   "cell_type": "markdown",
   "metadata": {
    "slideshow": {
     "slide_type": "fragment"
    }
   },
   "source": [
    "**GHC (Glasgow Haskell Compiler) es un compolador y un entorno interactivo para Haskell**. Usando GHC podemos:\n",
    "* Compilar programas y ejecutarlos como cualquier otra app.\n",
    "* Evaluar expresiones de Haskell rápidamente usando el entorno interactivo provisto por GHC (el GHCi).\n",
    "\n",
    "Para usar GHCi, abre la terminal en el entorno remoto de GitPod que preparamos y escribe `ghci`.\n",
    "\n",
    "Usa `:l relative/path.hs` dentro de GHCi para cargar un archivo y usar de manera interactiva sus contenidos. Escribe `:r` si deseas volver a cargar el archivo y `:q` para salir. "
   ]
  },
  {
   "cell_type": "markdown",
   "metadata": {},
   "source": [
    "**NOTA** Si deseas instalar GHC y GHCi en tu computadora, puedes seguir las instrucciones en www.haskell.org/ghcup/.\n",
    "Se explica la forma de instalación para Windows, Linux y Mac."
   ]
  }
 ],
 "metadata": {
  "celltoolbar": "Slideshow",
  "kernelspec": {
   "display_name": "Haskell",
   "language": "haskell",
   "name": "haskell"
  },
  "language_info": {
   "codemirror_mode": "ihaskell",
   "file_extension": ".hs",
   "mimetype": "text/x-haskell",
   "name": "haskell",
   "pygments_lexer": "Haskell",
   "version": "8.10.7"
  },
  "rise": {
   "enable_chalkboard": true,
   "header": "<img style=\"position: relative; left: 1230px; width: 200px; top: 10px;\" src=\"https://raw.githubusercontent.com/rober-m/haskell-bootcamp/main/images/input-output.svg\"/>"
  }
 },
 "nbformat": 4,
 "nbformat_minor": 4
}
